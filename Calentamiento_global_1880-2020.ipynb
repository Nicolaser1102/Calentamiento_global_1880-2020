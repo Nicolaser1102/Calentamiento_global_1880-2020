{
  "nbformat": 4,
  "nbformat_minor": 0,
  "metadata": {
    "colab": {
      "name": "Ejercicio_visualización_de_datos.ipynb",
      "provenance": [],
      "authorship_tag": "ABX9TyOxd2U0iQOl/ytLCczVZveQ",
      "include_colab_link": true
    },
    "kernelspec": {
      "name": "python3",
      "display_name": "Python 3"
    },
    "language_info": {
      "name": "python"
    }
  },
  "cells": [
    {
      "cell_type": "markdown",
      "metadata": {
        "id": "view-in-github",
        "colab_type": "text"
      },
      "source": [
        "<a href=\"https://colab.research.google.com/github/Nicolaser1102/Calentamiento_global_1880-2020/blob/main/Calentamiento_global_1880-2020.ipynb\" target=\"_parent\"><img src=\"https://colab.research.google.com/assets/colab-badge.svg\" alt=\"Open In Colab\"/></a>"
      ]
    },
    {
      "cell_type": "markdown",
      "source": [
        "# CODING DOJO \n",
        "## Fecha creación:20/1/2022\n",
        "## Fecha de actualización: 22/1/2022\n",
        "## Esteban Simbaña\n",
        "\n",
        "#Ejercicio visualización de datos"
      ],
      "metadata": {
        "id": "Xx1V4OMnjs4l"
      }
    },
    {
      "cell_type": "code",
      "source": [
        "from google.colab import drive\n",
        "drive.mount('/content/drive')"
      ],
      "metadata": {
        "colab": {
          "base_uri": "https://localhost:8080/"
        },
        "id": "obVmRjHMjr9e",
        "outputId": "132b1d49-b032-4c5f-8831-4a1e49fcd1ec"
      },
      "execution_count": 4,
      "outputs": [
        {
          "output_type": "stream",
          "name": "stdout",
          "text": [
            "Drive already mounted at /content/drive; to attempt to forcibly remount, call drive.mount(\"/content/drive\", force_remount=True).\n"
          ]
        }
      ]
    },
    {
      "cell_type": "code",
      "source": [
        "import pandas as pd"
      ],
      "metadata": {
        "id": "Jwas93MnkAkr"
      },
      "execution_count": 5,
      "outputs": []
    },
    {
      "cell_type": "code",
      "source": [
        "nombrearchivo = '/content/drive/MyDrive/Coding Dojo/Códigos/Week 3/Deberes /Ejercicio visualización de datos/Global Temperature Anomalies.csv'\n",
        "df = pd.read_csv(nombrearchivo)\n",
        "df.head()\n",
        "#se observa que los datos se montaron correctamente "
      ],
      "metadata": {
        "colab": {
          "base_uri": "https://localhost:8080/",
          "height": 207
        },
        "id": "QpUuIoGGkEXH",
        "outputId": "224455d9-4f35-4f79-e8a9-495465c79b1d"
      },
      "execution_count": 6,
      "outputs": [
        {
          "output_type": "execute_result",
          "data": {
            "text/html": [
              "\n",
              "  <div id=\"df-fc2b3cb9-0f02-47ac-9684-cba7081be802\">\n",
              "    <div class=\"colab-df-container\">\n",
              "      <div>\n",
              "<style scoped>\n",
              "    .dataframe tbody tr th:only-of-type {\n",
              "        vertical-align: middle;\n",
              "    }\n",
              "\n",
              "    .dataframe tbody tr th {\n",
              "        vertical-align: top;\n",
              "    }\n",
              "\n",
              "    .dataframe thead th {\n",
              "        text-align: right;\n",
              "    }\n",
              "</style>\n",
              "<table border=\"1\" class=\"dataframe\">\n",
              "  <thead>\n",
              "    <tr style=\"text-align: right;\">\n",
              "      <th></th>\n",
              "      <th>Hemisphere</th>\n",
              "      <th>Year</th>\n",
              "      <th>Jan</th>\n",
              "      <th>Feb</th>\n",
              "      <th>Mar</th>\n",
              "      <th>Apr</th>\n",
              "      <th>May</th>\n",
              "      <th>Jun</th>\n",
              "      <th>Jul</th>\n",
              "      <th>Aug</th>\n",
              "      <th>Sep</th>\n",
              "      <th>Oct</th>\n",
              "      <th>Nov</th>\n",
              "      <th>Dec</th>\n",
              "      <th>J-D</th>\n",
              "      <th>D-N</th>\n",
              "      <th>DJF</th>\n",
              "      <th>MAM</th>\n",
              "      <th>JJA</th>\n",
              "      <th>SON</th>\n",
              "    </tr>\n",
              "  </thead>\n",
              "  <tbody>\n",
              "    <tr>\n",
              "      <th>0</th>\n",
              "      <td>Global</td>\n",
              "      <td>1880</td>\n",
              "      <td>-0.17</td>\n",
              "      <td>-0.23</td>\n",
              "      <td>-0.08</td>\n",
              "      <td>-0.15</td>\n",
              "      <td>-0.08</td>\n",
              "      <td>-0.20</td>\n",
              "      <td>-0.17</td>\n",
              "      <td>-0.09</td>\n",
              "      <td>-0.13</td>\n",
              "      <td>-0.22</td>\n",
              "      <td>-0.20</td>\n",
              "      <td>-0.16</td>\n",
              "      <td>-0.16</td>\n",
              "      <td>NaN</td>\n",
              "      <td>NaN</td>\n",
              "      <td>-0.10</td>\n",
              "      <td>-0.15</td>\n",
              "      <td>-0.18</td>\n",
              "    </tr>\n",
              "    <tr>\n",
              "      <th>1</th>\n",
              "      <td>Global</td>\n",
              "      <td>1881</td>\n",
              "      <td>-0.18</td>\n",
              "      <td>-0.13</td>\n",
              "      <td>0.04</td>\n",
              "      <td>0.06</td>\n",
              "      <td>0.08</td>\n",
              "      <td>-0.17</td>\n",
              "      <td>0.02</td>\n",
              "      <td>-0.02</td>\n",
              "      <td>-0.14</td>\n",
              "      <td>-0.20</td>\n",
              "      <td>-0.17</td>\n",
              "      <td>-0.05</td>\n",
              "      <td>-0.07</td>\n",
              "      <td>-0.08</td>\n",
              "      <td>-0.16</td>\n",
              "      <td>0.06</td>\n",
              "      <td>-0.06</td>\n",
              "      <td>-0.17</td>\n",
              "    </tr>\n",
              "    <tr>\n",
              "      <th>2</th>\n",
              "      <td>Global</td>\n",
              "      <td>1882</td>\n",
              "      <td>0.18</td>\n",
              "      <td>0.15</td>\n",
              "      <td>0.06</td>\n",
              "      <td>-0.15</td>\n",
              "      <td>-0.13</td>\n",
              "      <td>-0.21</td>\n",
              "      <td>-0.15</td>\n",
              "      <td>-0.06</td>\n",
              "      <td>-0.13</td>\n",
              "      <td>-0.23</td>\n",
              "      <td>-0.15</td>\n",
              "      <td>-0.34</td>\n",
              "      <td>-0.10</td>\n",
              "      <td>-0.07</td>\n",
              "      <td>0.09</td>\n",
              "      <td>-0.08</td>\n",
              "      <td>-0.14</td>\n",
              "      <td>-0.17</td>\n",
              "    </tr>\n",
              "    <tr>\n",
              "      <th>3</th>\n",
              "      <td>Global</td>\n",
              "      <td>1883</td>\n",
              "      <td>-0.28</td>\n",
              "      <td>-0.36</td>\n",
              "      <td>-0.11</td>\n",
              "      <td>-0.17</td>\n",
              "      <td>-0.16</td>\n",
              "      <td>-0.07</td>\n",
              "      <td>-0.05</td>\n",
              "      <td>-0.12</td>\n",
              "      <td>-0.20</td>\n",
              "      <td>-0.10</td>\n",
              "      <td>-0.22</td>\n",
              "      <td>-0.10</td>\n",
              "      <td>-0.16</td>\n",
              "      <td>-0.18</td>\n",
              "      <td>-0.33</td>\n",
              "      <td>-0.15</td>\n",
              "      <td>-0.08</td>\n",
              "      <td>-0.17</td>\n",
              "    </tr>\n",
              "    <tr>\n",
              "      <th>4</th>\n",
              "      <td>Global</td>\n",
              "      <td>1884</td>\n",
              "      <td>-0.12</td>\n",
              "      <td>-0.07</td>\n",
              "      <td>-0.36</td>\n",
              "      <td>-0.39</td>\n",
              "      <td>-0.33</td>\n",
              "      <td>-0.34</td>\n",
              "      <td>-0.32</td>\n",
              "      <td>-0.27</td>\n",
              "      <td>-0.26</td>\n",
              "      <td>-0.24</td>\n",
              "      <td>-0.32</td>\n",
              "      <td>-0.30</td>\n",
              "      <td>-0.28</td>\n",
              "      <td>-0.26</td>\n",
              "      <td>-0.10</td>\n",
              "      <td>-0.36</td>\n",
              "      <td>-0.31</td>\n",
              "      <td>-0.27</td>\n",
              "    </tr>\n",
              "  </tbody>\n",
              "</table>\n",
              "</div>\n",
              "      <button class=\"colab-df-convert\" onclick=\"convertToInteractive('df-fc2b3cb9-0f02-47ac-9684-cba7081be802')\"\n",
              "              title=\"Convert this dataframe to an interactive table.\"\n",
              "              style=\"display:none;\">\n",
              "        \n",
              "  <svg xmlns=\"http://www.w3.org/2000/svg\" height=\"24px\"viewBox=\"0 0 24 24\"\n",
              "       width=\"24px\">\n",
              "    <path d=\"M0 0h24v24H0V0z\" fill=\"none\"/>\n",
              "    <path d=\"M18.56 5.44l.94 2.06.94-2.06 2.06-.94-2.06-.94-.94-2.06-.94 2.06-2.06.94zm-11 1L8.5 8.5l.94-2.06 2.06-.94-2.06-.94L8.5 2.5l-.94 2.06-2.06.94zm10 10l.94 2.06.94-2.06 2.06-.94-2.06-.94-.94-2.06-.94 2.06-2.06.94z\"/><path d=\"M17.41 7.96l-1.37-1.37c-.4-.4-.92-.59-1.43-.59-.52 0-1.04.2-1.43.59L10.3 9.45l-7.72 7.72c-.78.78-.78 2.05 0 2.83L4 21.41c.39.39.9.59 1.41.59.51 0 1.02-.2 1.41-.59l7.78-7.78 2.81-2.81c.8-.78.8-2.07 0-2.86zM5.41 20L4 18.59l7.72-7.72 1.47 1.35L5.41 20z\"/>\n",
              "  </svg>\n",
              "      </button>\n",
              "      \n",
              "  <style>\n",
              "    .colab-df-container {\n",
              "      display:flex;\n",
              "      flex-wrap:wrap;\n",
              "      gap: 12px;\n",
              "    }\n",
              "\n",
              "    .colab-df-convert {\n",
              "      background-color: #E8F0FE;\n",
              "      border: none;\n",
              "      border-radius: 50%;\n",
              "      cursor: pointer;\n",
              "      display: none;\n",
              "      fill: #1967D2;\n",
              "      height: 32px;\n",
              "      padding: 0 0 0 0;\n",
              "      width: 32px;\n",
              "    }\n",
              "\n",
              "    .colab-df-convert:hover {\n",
              "      background-color: #E2EBFA;\n",
              "      box-shadow: 0px 1px 2px rgba(60, 64, 67, 0.3), 0px 1px 3px 1px rgba(60, 64, 67, 0.15);\n",
              "      fill: #174EA6;\n",
              "    }\n",
              "\n",
              "    [theme=dark] .colab-df-convert {\n",
              "      background-color: #3B4455;\n",
              "      fill: #D2E3FC;\n",
              "    }\n",
              "\n",
              "    [theme=dark] .colab-df-convert:hover {\n",
              "      background-color: #434B5C;\n",
              "      box-shadow: 0px 1px 3px 1px rgba(0, 0, 0, 0.15);\n",
              "      filter: drop-shadow(0px 1px 2px rgba(0, 0, 0, 0.3));\n",
              "      fill: #FFFFFF;\n",
              "    }\n",
              "  </style>\n",
              "\n",
              "      <script>\n",
              "        const buttonEl =\n",
              "          document.querySelector('#df-fc2b3cb9-0f02-47ac-9684-cba7081be802 button.colab-df-convert');\n",
              "        buttonEl.style.display =\n",
              "          google.colab.kernel.accessAllowed ? 'block' : 'none';\n",
              "\n",
              "        async function convertToInteractive(key) {\n",
              "          const element = document.querySelector('#df-fc2b3cb9-0f02-47ac-9684-cba7081be802');\n",
              "          const dataTable =\n",
              "            await google.colab.kernel.invokeFunction('convertToInteractive',\n",
              "                                                     [key], {});\n",
              "          if (!dataTable) return;\n",
              "\n",
              "          const docLinkHtml = 'Like what you see? Visit the ' +\n",
              "            '<a target=\"_blank\" href=https://colab.research.google.com/notebooks/data_table.ipynb>data table notebook</a>'\n",
              "            + ' to learn more about interactive tables.';\n",
              "          element.innerHTML = '';\n",
              "          dataTable['output_type'] = 'display_data';\n",
              "          await google.colab.output.renderOutput(dataTable, element);\n",
              "          const docLink = document.createElement('div');\n",
              "          docLink.innerHTML = docLinkHtml;\n",
              "          element.appendChild(docLink);\n",
              "        }\n",
              "      </script>\n",
              "    </div>\n",
              "  </div>\n",
              "  "
            ],
            "text/plain": [
              "  Hemisphere  Year   Jan   Feb   Mar   Apr  ...   J-D   D-N   DJF   MAM   JJA   SON\n",
              "0     Global  1880 -0.17 -0.23 -0.08 -0.15  ... -0.16   NaN   NaN -0.10 -0.15 -0.18\n",
              "1     Global  1881 -0.18 -0.13  0.04  0.06  ... -0.07 -0.08 -0.16  0.06 -0.06 -0.17\n",
              "2     Global  1882  0.18  0.15  0.06 -0.15  ... -0.10 -0.07  0.09 -0.08 -0.14 -0.17\n",
              "3     Global  1883 -0.28 -0.36 -0.11 -0.17  ... -0.16 -0.18 -0.33 -0.15 -0.08 -0.17\n",
              "4     Global  1884 -0.12 -0.07 -0.36 -0.39  ... -0.28 -0.26 -0.10 -0.36 -0.31 -0.27\n",
              "\n",
              "[5 rows x 20 columns]"
            ]
          },
          "metadata": {},
          "execution_count": 6
        }
      ]
    },
    {
      "cell_type": "markdown",
      "source": [
        "# Análisis de la tabla "
      ],
      "metadata": {
        "id": "yM-OspV5HZrF"
      }
    },
    {
      "cell_type": "markdown",
      "source": [
        "El título del df es 'Global Temperature Anomalies' lo que sería en español \n",
        "\n",
        "'Anomalías de la temperatura global': Y hace referencia cuanto ha cambiado la temperatura según el sistema de referencia (temperatura media del planeta) entre esos meses de cada año.\n",
        "\n",
        "- Teniendo presente que en 1880 la temperatura media del planeta era de -0,16 °C.\n",
        "\n",
        "![tarea 1.png](data:image/png;base64,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)\n",
        "\n",
        "--- Fuente: https://www.lavanguardia.com/vida/junior-report/20210325/6605302/aumento-temperatura-planeta-tres-graficos.html#:~:text=Seg%C3%BAn%20datos%20de%20la%20NASA,sobretodo%20en%20los%20%C3%BAltimos%20a%C3%B1os."
      ],
      "metadata": {
        "id": "t8gHgljlClhx"
      }
    },
    {
      "cell_type": "markdown",
      "source": [
        " De igual manera se observa que existen columnas después de cada respectivo mes, (ultimas columnas)\n",
        " En estás trata información sobre meses del año pero en conjunto, se tendría:\n",
        "  - D- N (promedio anual) \n",
        "  - DJF (invierno)\n",
        "  - MAM (primavera)\n",
        "  - JJA (verano)\n",
        "  - SON (otoño)\n",
        "\n",
        "\n",
        "  *Temperatura promedio en cada estación del año*"
      ],
      "metadata": {
        "id": "eWDhJ3ldHQnH"
      }
    },
    {
      "cell_type": "markdown",
      "source": [
        "Tipo de información de cada columna:\n",
        "\n",
        "*   Hemisphere = Hemisferio (Global, Norte o Sur)\n",
        "*   Año = Año donde fueron tomaron los datos\n",
        "*   Columnas con los meses de cada año (Jan, Feb ,..., Nov, Dec)\n",
        "*   Columnas con las estaciones del año (J-D, D-N, DJF, MAM, JJA, SON)\n"
      ],
      "metadata": {
        "id": "WISfSvjcHJcl"
      }
    },
    {
      "cell_type": "markdown",
      "source": [
        "# Limpieza de datos"
      ],
      "metadata": {
        "id": "PsoGl8hyLBr1"
      }
    },
    {
      "cell_type": "code",
      "source": [
        "#pedimos información de la tabla\n",
        "df.info()\n",
        "#se observa que hay 423 datos por columna donde las columnas  'D-N' Y'DJF'\n",
        "#tienen datos faltantes "
      ],
      "metadata": {
        "colab": {
          "base_uri": "https://localhost:8080/"
        },
        "id": "RPsKVgZKCOz7",
        "outputId": "e5bda49c-7e24-4410-b6b5-6639b511e3f5"
      },
      "execution_count": 7,
      "outputs": [
        {
          "output_type": "stream",
          "name": "stdout",
          "text": [
            "<class 'pandas.core.frame.DataFrame'>\n",
            "RangeIndex: 423 entries, 0 to 422\n",
            "Data columns (total 20 columns):\n",
            " #   Column      Non-Null Count  Dtype  \n",
            "---  ------      --------------  -----  \n",
            " 0   Hemisphere  423 non-null    object \n",
            " 1   Year        423 non-null    int64  \n",
            " 2   Jan         423 non-null    float64\n",
            " 3   Feb         423 non-null    float64\n",
            " 4   Mar         423 non-null    float64\n",
            " 5   Apr         423 non-null    float64\n",
            " 6   May         423 non-null    float64\n",
            " 7   Jun         423 non-null    float64\n",
            " 8   Jul         423 non-null    float64\n",
            " 9   Aug         423 non-null    float64\n",
            " 10  Sep         423 non-null    float64\n",
            " 11  Oct         423 non-null    float64\n",
            " 12  Nov         423 non-null    float64\n",
            " 13  Dec         423 non-null    float64\n",
            " 14  J-D         423 non-null    float64\n",
            " 15  D-N         420 non-null    float64\n",
            " 16  DJF         420 non-null    float64\n",
            " 17  MAM         423 non-null    float64\n",
            " 18  JJA         423 non-null    float64\n",
            " 19  SON         423 non-null    float64\n",
            "dtypes: float64(18), int64(1), object(1)\n",
            "memory usage: 66.2+ KB\n"
          ]
        }
      ]
    },
    {
      "cell_type": "markdown",
      "source": [
        "- Completar datos faltantes"
      ],
      "metadata": {
        "id": "OIOOHcn4LKQB"
      }
    },
    {
      "cell_type": "code",
      "source": [
        "df.describe()"
      ],
      "metadata": {
        "colab": {
          "base_uri": "https://localhost:8080/",
          "height": 300
        },
        "id": "id23zvhTNCA0",
        "outputId": "1fa63690-7fcc-476b-f942-dca7b7188f46"
      },
      "execution_count": 8,
      "outputs": [
        {
          "output_type": "execute_result",
          "data": {
            "text/html": [
              "\n",
              "  <div id=\"df-eb5386d0-e134-4790-bbe5-f11f16d089bb\">\n",
              "    <div class=\"colab-df-container\">\n",
              "      <div>\n",
              "<style scoped>\n",
              "    .dataframe tbody tr th:only-of-type {\n",
              "        vertical-align: middle;\n",
              "    }\n",
              "\n",
              "    .dataframe tbody tr th {\n",
              "        vertical-align: top;\n",
              "    }\n",
              "\n",
              "    .dataframe thead th {\n",
              "        text-align: right;\n",
              "    }\n",
              "</style>\n",
              "<table border=\"1\" class=\"dataframe\">\n",
              "  <thead>\n",
              "    <tr style=\"text-align: right;\">\n",
              "      <th></th>\n",
              "      <th>Year</th>\n",
              "      <th>Jan</th>\n",
              "      <th>Feb</th>\n",
              "      <th>Mar</th>\n",
              "      <th>Apr</th>\n",
              "      <th>May</th>\n",
              "      <th>Jun</th>\n",
              "      <th>Jul</th>\n",
              "      <th>Aug</th>\n",
              "      <th>Sep</th>\n",
              "      <th>Oct</th>\n",
              "      <th>Nov</th>\n",
              "      <th>Dec</th>\n",
              "      <th>J-D</th>\n",
              "      <th>D-N</th>\n",
              "      <th>DJF</th>\n",
              "      <th>MAM</th>\n",
              "      <th>JJA</th>\n",
              "      <th>SON</th>\n",
              "    </tr>\n",
              "  </thead>\n",
              "  <tbody>\n",
              "    <tr>\n",
              "      <th>count</th>\n",
              "      <td>423.000000</td>\n",
              "      <td>423.000000</td>\n",
              "      <td>423.000000</td>\n",
              "      <td>423.000000</td>\n",
              "      <td>423.000000</td>\n",
              "      <td>423.000000</td>\n",
              "      <td>423.000000</td>\n",
              "      <td>423.000000</td>\n",
              "      <td>423.000000</td>\n",
              "      <td>423.000000</td>\n",
              "      <td>423.000000</td>\n",
              "      <td>423.000000</td>\n",
              "      <td>423.000000</td>\n",
              "      <td>423.000000</td>\n",
              "      <td>420.000000</td>\n",
              "      <td>420.000000</td>\n",
              "      <td>423.000000</td>\n",
              "      <td>423.000000</td>\n",
              "      <td>423.000000</td>\n",
              "    </tr>\n",
              "    <tr>\n",
              "      <th>mean</th>\n",
              "      <td>1950.000000</td>\n",
              "      <td>0.049291</td>\n",
              "      <td>0.056430</td>\n",
              "      <td>0.070000</td>\n",
              "      <td>0.048747</td>\n",
              "      <td>0.039125</td>\n",
              "      <td>0.025130</td>\n",
              "      <td>0.047991</td>\n",
              "      <td>0.046478</td>\n",
              "      <td>0.049243</td>\n",
              "      <td>0.074634</td>\n",
              "      <td>0.071135</td>\n",
              "      <td>0.044232</td>\n",
              "      <td>0.051844</td>\n",
              "      <td>0.052929</td>\n",
              "      <td>0.049548</td>\n",
              "      <td>0.052766</td>\n",
              "      <td>0.039905</td>\n",
              "      <td>0.065106</td>\n",
              "    </tr>\n",
              "    <tr>\n",
              "      <th>std</th>\n",
              "      <td>40.750367</td>\n",
              "      <td>0.435529</td>\n",
              "      <td>0.440767</td>\n",
              "      <td>0.434084</td>\n",
              "      <td>0.396517</td>\n",
              "      <td>0.370582</td>\n",
              "      <td>0.363832</td>\n",
              "      <td>0.341543</td>\n",
              "      <td>0.359471</td>\n",
              "      <td>0.359066</td>\n",
              "      <td>0.372108</td>\n",
              "      <td>0.388595</td>\n",
              "      <td>0.403350</td>\n",
              "      <td>0.366781</td>\n",
              "      <td>0.367318</td>\n",
              "      <td>0.408881</td>\n",
              "      <td>0.390870</td>\n",
              "      <td>0.348772</td>\n",
              "      <td>0.363805</td>\n",
              "    </tr>\n",
              "    <tr>\n",
              "      <th>min</th>\n",
              "      <td>1880.000000</td>\n",
              "      <td>-1.520000</td>\n",
              "      <td>-0.970000</td>\n",
              "      <td>-0.780000</td>\n",
              "      <td>-0.640000</td>\n",
              "      <td>-0.720000</td>\n",
              "      <td>-0.650000</td>\n",
              "      <td>-0.580000</td>\n",
              "      <td>-0.760000</td>\n",
              "      <td>-0.790000</td>\n",
              "      <td>-0.830000</td>\n",
              "      <td>-0.820000</td>\n",
              "      <td>-1.130000</td>\n",
              "      <td>-0.570000</td>\n",
              "      <td>-0.570000</td>\n",
              "      <td>-1.050000</td>\n",
              "      <td>-0.700000</td>\n",
              "      <td>-0.520000</td>\n",
              "      <td>-0.710000</td>\n",
              "    </tr>\n",
              "    <tr>\n",
              "      <th>25%</th>\n",
              "      <td>1915.000000</td>\n",
              "      <td>-0.240000</td>\n",
              "      <td>-0.230000</td>\n",
              "      <td>-0.220000</td>\n",
              "      <td>-0.250000</td>\n",
              "      <td>-0.240000</td>\n",
              "      <td>-0.260000</td>\n",
              "      <td>-0.200000</td>\n",
              "      <td>-0.210000</td>\n",
              "      <td>-0.210000</td>\n",
              "      <td>-0.205000</td>\n",
              "      <td>-0.200000</td>\n",
              "      <td>-0.220000</td>\n",
              "      <td>-0.210000</td>\n",
              "      <td>-0.210000</td>\n",
              "      <td>-0.220000</td>\n",
              "      <td>-0.240000</td>\n",
              "      <td>-0.220000</td>\n",
              "      <td>-0.195000</td>\n",
              "    </tr>\n",
              "    <tr>\n",
              "      <th>50%</th>\n",
              "      <td>1950.000000</td>\n",
              "      <td>-0.030000</td>\n",
              "      <td>-0.040000</td>\n",
              "      <td>-0.020000</td>\n",
              "      <td>-0.030000</td>\n",
              "      <td>-0.040000</td>\n",
              "      <td>-0.050000</td>\n",
              "      <td>-0.030000</td>\n",
              "      <td>-0.050000</td>\n",
              "      <td>-0.040000</td>\n",
              "      <td>0.000000</td>\n",
              "      <td>0.010000</td>\n",
              "      <td>-0.040000</td>\n",
              "      <td>-0.030000</td>\n",
              "      <td>-0.045000</td>\n",
              "      <td>-0.040000</td>\n",
              "      <td>-0.050000</td>\n",
              "      <td>-0.050000</td>\n",
              "      <td>-0.020000</td>\n",
              "    </tr>\n",
              "    <tr>\n",
              "      <th>75%</th>\n",
              "      <td>1985.000000</td>\n",
              "      <td>0.305000</td>\n",
              "      <td>0.360000</td>\n",
              "      <td>0.320000</td>\n",
              "      <td>0.280000</td>\n",
              "      <td>0.240000</td>\n",
              "      <td>0.230000</td>\n",
              "      <td>0.235000</td>\n",
              "      <td>0.260000</td>\n",
              "      <td>0.250000</td>\n",
              "      <td>0.275000</td>\n",
              "      <td>0.270000</td>\n",
              "      <td>0.295000</td>\n",
              "      <td>0.255000</td>\n",
              "      <td>0.270000</td>\n",
              "      <td>0.292500</td>\n",
              "      <td>0.275000</td>\n",
              "      <td>0.220000</td>\n",
              "      <td>0.260000</td>\n",
              "    </tr>\n",
              "    <tr>\n",
              "      <th>max</th>\n",
              "      <td>2020.000000</td>\n",
              "      <td>1.600000</td>\n",
              "      <td>1.950000</td>\n",
              "      <td>1.910000</td>\n",
              "      <td>1.490000</td>\n",
              "      <td>1.280000</td>\n",
              "      <td>1.200000</td>\n",
              "      <td>1.110000</td>\n",
              "      <td>1.140000</td>\n",
              "      <td>1.230000</td>\n",
              "      <td>1.320000</td>\n",
              "      <td>1.620000</td>\n",
              "      <td>1.540000</td>\n",
              "      <td>1.360000</td>\n",
              "      <td>1.380000</td>\n",
              "      <td>1.680000</td>\n",
              "      <td>1.510000</td>\n",
              "      <td>1.130000</td>\n",
              "      <td>1.350000</td>\n",
              "    </tr>\n",
              "  </tbody>\n",
              "</table>\n",
              "</div>\n",
              "      <button class=\"colab-df-convert\" onclick=\"convertToInteractive('df-eb5386d0-e134-4790-bbe5-f11f16d089bb')\"\n",
              "              title=\"Convert this dataframe to an interactive table.\"\n",
              "              style=\"display:none;\">\n",
              "        \n",
              "  <svg xmlns=\"http://www.w3.org/2000/svg\" height=\"24px\"viewBox=\"0 0 24 24\"\n",
              "       width=\"24px\">\n",
              "    <path d=\"M0 0h24v24H0V0z\" fill=\"none\"/>\n",
              "    <path d=\"M18.56 5.44l.94 2.06.94-2.06 2.06-.94-2.06-.94-.94-2.06-.94 2.06-2.06.94zm-11 1L8.5 8.5l.94-2.06 2.06-.94-2.06-.94L8.5 2.5l-.94 2.06-2.06.94zm10 10l.94 2.06.94-2.06 2.06-.94-2.06-.94-.94-2.06-.94 2.06-2.06.94z\"/><path d=\"M17.41 7.96l-1.37-1.37c-.4-.4-.92-.59-1.43-.59-.52 0-1.04.2-1.43.59L10.3 9.45l-7.72 7.72c-.78.78-.78 2.05 0 2.83L4 21.41c.39.39.9.59 1.41.59.51 0 1.02-.2 1.41-.59l7.78-7.78 2.81-2.81c.8-.78.8-2.07 0-2.86zM5.41 20L4 18.59l7.72-7.72 1.47 1.35L5.41 20z\"/>\n",
              "  </svg>\n",
              "      </button>\n",
              "      \n",
              "  <style>\n",
              "    .colab-df-container {\n",
              "      display:flex;\n",
              "      flex-wrap:wrap;\n",
              "      gap: 12px;\n",
              "    }\n",
              "\n",
              "    .colab-df-convert {\n",
              "      background-color: #E8F0FE;\n",
              "      border: none;\n",
              "      border-radius: 50%;\n",
              "      cursor: pointer;\n",
              "      display: none;\n",
              "      fill: #1967D2;\n",
              "      height: 32px;\n",
              "      padding: 0 0 0 0;\n",
              "      width: 32px;\n",
              "    }\n",
              "\n",
              "    .colab-df-convert:hover {\n",
              "      background-color: #E2EBFA;\n",
              "      box-shadow: 0px 1px 2px rgba(60, 64, 67, 0.3), 0px 1px 3px 1px rgba(60, 64, 67, 0.15);\n",
              "      fill: #174EA6;\n",
              "    }\n",
              "\n",
              "    [theme=dark] .colab-df-convert {\n",
              "      background-color: #3B4455;\n",
              "      fill: #D2E3FC;\n",
              "    }\n",
              "\n",
              "    [theme=dark] .colab-df-convert:hover {\n",
              "      background-color: #434B5C;\n",
              "      box-shadow: 0px 1px 3px 1px rgba(0, 0, 0, 0.15);\n",
              "      filter: drop-shadow(0px 1px 2px rgba(0, 0, 0, 0.3));\n",
              "      fill: #FFFFFF;\n",
              "    }\n",
              "  </style>\n",
              "\n",
              "      <script>\n",
              "        const buttonEl =\n",
              "          document.querySelector('#df-eb5386d0-e134-4790-bbe5-f11f16d089bb button.colab-df-convert');\n",
              "        buttonEl.style.display =\n",
              "          google.colab.kernel.accessAllowed ? 'block' : 'none';\n",
              "\n",
              "        async function convertToInteractive(key) {\n",
              "          const element = document.querySelector('#df-eb5386d0-e134-4790-bbe5-f11f16d089bb');\n",
              "          const dataTable =\n",
              "            await google.colab.kernel.invokeFunction('convertToInteractive',\n",
              "                                                     [key], {});\n",
              "          if (!dataTable) return;\n",
              "\n",
              "          const docLinkHtml = 'Like what you see? Visit the ' +\n",
              "            '<a target=\"_blank\" href=https://colab.research.google.com/notebooks/data_table.ipynb>data table notebook</a>'\n",
              "            + ' to learn more about interactive tables.';\n",
              "          element.innerHTML = '';\n",
              "          dataTable['output_type'] = 'display_data';\n",
              "          await google.colab.output.renderOutput(dataTable, element);\n",
              "          const docLink = document.createElement('div');\n",
              "          docLink.innerHTML = docLinkHtml;\n",
              "          element.appendChild(docLink);\n",
              "        }\n",
              "      </script>\n",
              "    </div>\n",
              "  </div>\n",
              "  "
            ],
            "text/plain": [
              "              Year         Jan         Feb  ...         MAM         JJA         SON\n",
              "count   423.000000  423.000000  423.000000  ...  423.000000  423.000000  423.000000\n",
              "mean   1950.000000    0.049291    0.056430  ...    0.052766    0.039905    0.065106\n",
              "std      40.750367    0.435529    0.440767  ...    0.390870    0.348772    0.363805\n",
              "min    1880.000000   -1.520000   -0.970000  ...   -0.700000   -0.520000   -0.710000\n",
              "25%    1915.000000   -0.240000   -0.230000  ...   -0.240000   -0.220000   -0.195000\n",
              "50%    1950.000000   -0.030000   -0.040000  ...   -0.050000   -0.050000   -0.020000\n",
              "75%    1985.000000    0.305000    0.360000  ...    0.275000    0.220000    0.260000\n",
              "max    2020.000000    1.600000    1.950000  ...    1.510000    1.130000    1.350000\n",
              "\n",
              "[8 rows x 19 columns]"
            ]
          },
          "metadata": {},
          "execution_count": 8
        }
      ]
    },
    {
      "cell_type": "code",
      "source": [
        "df['D-N'].describe()"
      ],
      "metadata": {
        "colab": {
          "base_uri": "https://localhost:8080/"
        },
        "id": "p1S6YD6aLGoU",
        "outputId": "653700e1-9491-4647-e2d6-41f091c3cdfb"
      },
      "execution_count": 9,
      "outputs": [
        {
          "output_type": "execute_result",
          "data": {
            "text/plain": [
              "count    420.000000\n",
              "mean       0.052929\n",
              "std        0.367318\n",
              "min       -0.570000\n",
              "25%       -0.210000\n",
              "50%       -0.045000\n",
              "75%        0.270000\n",
              "max        1.380000\n",
              "Name: D-N, dtype: float64"
            ]
          },
          "metadata": {},
          "execution_count": 9
        }
      ]
    },
    {
      "cell_type": "code",
      "source": [
        "df['DJF'].describe()"
      ],
      "metadata": {
        "colab": {
          "base_uri": "https://localhost:8080/"
        },
        "id": "FEQ7OdwVLOkZ",
        "outputId": "323680be-b27b-4abc-e375-1670274b7a57"
      },
      "execution_count": 10,
      "outputs": [
        {
          "output_type": "execute_result",
          "data": {
            "text/plain": [
              "count    420.000000\n",
              "mean       0.049548\n",
              "std        0.408881\n",
              "min       -1.050000\n",
              "25%       -0.220000\n",
              "50%       -0.040000\n",
              "75%        0.292500\n",
              "max        1.680000\n",
              "Name: DJF, dtype: float64"
            ]
          },
          "metadata": {},
          "execution_count": 10
        }
      ]
    },
    {
      "cell_type": "code",
      "source": [
        "#se observa que no se puede aplicar un metodo de inyectividad para reemplazar \n",
        "#los datos faltantes con el promedio\n",
        "\n",
        "#por lo que se va a usar el método '.fillna' para usar los valores que están \n",
        "#en la fila posterior (method = 'bfill')\n",
        "\n",
        "df1 = df\n",
        "df1 = df1.fillna(method= 'bfill') \n",
        "df1.head()"
      ],
      "metadata": {
        "colab": {
          "base_uri": "https://localhost:8080/",
          "height": 207
        },
        "id": "E65pd8h6LhPB",
        "outputId": "f185170e-8876-4afd-9707-85abfc1bbb64"
      },
      "execution_count": 11,
      "outputs": [
        {
          "output_type": "execute_result",
          "data": {
            "text/html": [
              "\n",
              "  <div id=\"df-a43bf62b-7c19-4f58-a502-e59acf8bfdf6\">\n",
              "    <div class=\"colab-df-container\">\n",
              "      <div>\n",
              "<style scoped>\n",
              "    .dataframe tbody tr th:only-of-type {\n",
              "        vertical-align: middle;\n",
              "    }\n",
              "\n",
              "    .dataframe tbody tr th {\n",
              "        vertical-align: top;\n",
              "    }\n",
              "\n",
              "    .dataframe thead th {\n",
              "        text-align: right;\n",
              "    }\n",
              "</style>\n",
              "<table border=\"1\" class=\"dataframe\">\n",
              "  <thead>\n",
              "    <tr style=\"text-align: right;\">\n",
              "      <th></th>\n",
              "      <th>Hemisphere</th>\n",
              "      <th>Year</th>\n",
              "      <th>Jan</th>\n",
              "      <th>Feb</th>\n",
              "      <th>Mar</th>\n",
              "      <th>Apr</th>\n",
              "      <th>May</th>\n",
              "      <th>Jun</th>\n",
              "      <th>Jul</th>\n",
              "      <th>Aug</th>\n",
              "      <th>Sep</th>\n",
              "      <th>Oct</th>\n",
              "      <th>Nov</th>\n",
              "      <th>Dec</th>\n",
              "      <th>J-D</th>\n",
              "      <th>D-N</th>\n",
              "      <th>DJF</th>\n",
              "      <th>MAM</th>\n",
              "      <th>JJA</th>\n",
              "      <th>SON</th>\n",
              "    </tr>\n",
              "  </thead>\n",
              "  <tbody>\n",
              "    <tr>\n",
              "      <th>0</th>\n",
              "      <td>Global</td>\n",
              "      <td>1880</td>\n",
              "      <td>-0.17</td>\n",
              "      <td>-0.23</td>\n",
              "      <td>-0.08</td>\n",
              "      <td>-0.15</td>\n",
              "      <td>-0.08</td>\n",
              "      <td>-0.20</td>\n",
              "      <td>-0.17</td>\n",
              "      <td>-0.09</td>\n",
              "      <td>-0.13</td>\n",
              "      <td>-0.22</td>\n",
              "      <td>-0.20</td>\n",
              "      <td>-0.16</td>\n",
              "      <td>-0.16</td>\n",
              "      <td>-0.08</td>\n",
              "      <td>-0.16</td>\n",
              "      <td>-0.10</td>\n",
              "      <td>-0.15</td>\n",
              "      <td>-0.18</td>\n",
              "    </tr>\n",
              "    <tr>\n",
              "      <th>1</th>\n",
              "      <td>Global</td>\n",
              "      <td>1881</td>\n",
              "      <td>-0.18</td>\n",
              "      <td>-0.13</td>\n",
              "      <td>0.04</td>\n",
              "      <td>0.06</td>\n",
              "      <td>0.08</td>\n",
              "      <td>-0.17</td>\n",
              "      <td>0.02</td>\n",
              "      <td>-0.02</td>\n",
              "      <td>-0.14</td>\n",
              "      <td>-0.20</td>\n",
              "      <td>-0.17</td>\n",
              "      <td>-0.05</td>\n",
              "      <td>-0.07</td>\n",
              "      <td>-0.08</td>\n",
              "      <td>-0.16</td>\n",
              "      <td>0.06</td>\n",
              "      <td>-0.06</td>\n",
              "      <td>-0.17</td>\n",
              "    </tr>\n",
              "    <tr>\n",
              "      <th>2</th>\n",
              "      <td>Global</td>\n",
              "      <td>1882</td>\n",
              "      <td>0.18</td>\n",
              "      <td>0.15</td>\n",
              "      <td>0.06</td>\n",
              "      <td>-0.15</td>\n",
              "      <td>-0.13</td>\n",
              "      <td>-0.21</td>\n",
              "      <td>-0.15</td>\n",
              "      <td>-0.06</td>\n",
              "      <td>-0.13</td>\n",
              "      <td>-0.23</td>\n",
              "      <td>-0.15</td>\n",
              "      <td>-0.34</td>\n",
              "      <td>-0.10</td>\n",
              "      <td>-0.07</td>\n",
              "      <td>0.09</td>\n",
              "      <td>-0.08</td>\n",
              "      <td>-0.14</td>\n",
              "      <td>-0.17</td>\n",
              "    </tr>\n",
              "    <tr>\n",
              "      <th>3</th>\n",
              "      <td>Global</td>\n",
              "      <td>1883</td>\n",
              "      <td>-0.28</td>\n",
              "      <td>-0.36</td>\n",
              "      <td>-0.11</td>\n",
              "      <td>-0.17</td>\n",
              "      <td>-0.16</td>\n",
              "      <td>-0.07</td>\n",
              "      <td>-0.05</td>\n",
              "      <td>-0.12</td>\n",
              "      <td>-0.20</td>\n",
              "      <td>-0.10</td>\n",
              "      <td>-0.22</td>\n",
              "      <td>-0.10</td>\n",
              "      <td>-0.16</td>\n",
              "      <td>-0.18</td>\n",
              "      <td>-0.33</td>\n",
              "      <td>-0.15</td>\n",
              "      <td>-0.08</td>\n",
              "      <td>-0.17</td>\n",
              "    </tr>\n",
              "    <tr>\n",
              "      <th>4</th>\n",
              "      <td>Global</td>\n",
              "      <td>1884</td>\n",
              "      <td>-0.12</td>\n",
              "      <td>-0.07</td>\n",
              "      <td>-0.36</td>\n",
              "      <td>-0.39</td>\n",
              "      <td>-0.33</td>\n",
              "      <td>-0.34</td>\n",
              "      <td>-0.32</td>\n",
              "      <td>-0.27</td>\n",
              "      <td>-0.26</td>\n",
              "      <td>-0.24</td>\n",
              "      <td>-0.32</td>\n",
              "      <td>-0.30</td>\n",
              "      <td>-0.28</td>\n",
              "      <td>-0.26</td>\n",
              "      <td>-0.10</td>\n",
              "      <td>-0.36</td>\n",
              "      <td>-0.31</td>\n",
              "      <td>-0.27</td>\n",
              "    </tr>\n",
              "  </tbody>\n",
              "</table>\n",
              "</div>\n",
              "      <button class=\"colab-df-convert\" onclick=\"convertToInteractive('df-a43bf62b-7c19-4f58-a502-e59acf8bfdf6')\"\n",
              "              title=\"Convert this dataframe to an interactive table.\"\n",
              "              style=\"display:none;\">\n",
              "        \n",
              "  <svg xmlns=\"http://www.w3.org/2000/svg\" height=\"24px\"viewBox=\"0 0 24 24\"\n",
              "       width=\"24px\">\n",
              "    <path d=\"M0 0h24v24H0V0z\" fill=\"none\"/>\n",
              "    <path d=\"M18.56 5.44l.94 2.06.94-2.06 2.06-.94-2.06-.94-.94-2.06-.94 2.06-2.06.94zm-11 1L8.5 8.5l.94-2.06 2.06-.94-2.06-.94L8.5 2.5l-.94 2.06-2.06.94zm10 10l.94 2.06.94-2.06 2.06-.94-2.06-.94-.94-2.06-.94 2.06-2.06.94z\"/><path d=\"M17.41 7.96l-1.37-1.37c-.4-.4-.92-.59-1.43-.59-.52 0-1.04.2-1.43.59L10.3 9.45l-7.72 7.72c-.78.78-.78 2.05 0 2.83L4 21.41c.39.39.9.59 1.41.59.51 0 1.02-.2 1.41-.59l7.78-7.78 2.81-2.81c.8-.78.8-2.07 0-2.86zM5.41 20L4 18.59l7.72-7.72 1.47 1.35L5.41 20z\"/>\n",
              "  </svg>\n",
              "      </button>\n",
              "      \n",
              "  <style>\n",
              "    .colab-df-container {\n",
              "      display:flex;\n",
              "      flex-wrap:wrap;\n",
              "      gap: 12px;\n",
              "    }\n",
              "\n",
              "    .colab-df-convert {\n",
              "      background-color: #E8F0FE;\n",
              "      border: none;\n",
              "      border-radius: 50%;\n",
              "      cursor: pointer;\n",
              "      display: none;\n",
              "      fill: #1967D2;\n",
              "      height: 32px;\n",
              "      padding: 0 0 0 0;\n",
              "      width: 32px;\n",
              "    }\n",
              "\n",
              "    .colab-df-convert:hover {\n",
              "      background-color: #E2EBFA;\n",
              "      box-shadow: 0px 1px 2px rgba(60, 64, 67, 0.3), 0px 1px 3px 1px rgba(60, 64, 67, 0.15);\n",
              "      fill: #174EA6;\n",
              "    }\n",
              "\n",
              "    [theme=dark] .colab-df-convert {\n",
              "      background-color: #3B4455;\n",
              "      fill: #D2E3FC;\n",
              "    }\n",
              "\n",
              "    [theme=dark] .colab-df-convert:hover {\n",
              "      background-color: #434B5C;\n",
              "      box-shadow: 0px 1px 3px 1px rgba(0, 0, 0, 0.15);\n",
              "      filter: drop-shadow(0px 1px 2px rgba(0, 0, 0, 0.3));\n",
              "      fill: #FFFFFF;\n",
              "    }\n",
              "  </style>\n",
              "\n",
              "      <script>\n",
              "        const buttonEl =\n",
              "          document.querySelector('#df-a43bf62b-7c19-4f58-a502-e59acf8bfdf6 button.colab-df-convert');\n",
              "        buttonEl.style.display =\n",
              "          google.colab.kernel.accessAllowed ? 'block' : 'none';\n",
              "\n",
              "        async function convertToInteractive(key) {\n",
              "          const element = document.querySelector('#df-a43bf62b-7c19-4f58-a502-e59acf8bfdf6');\n",
              "          const dataTable =\n",
              "            await google.colab.kernel.invokeFunction('convertToInteractive',\n",
              "                                                     [key], {});\n",
              "          if (!dataTable) return;\n",
              "\n",
              "          const docLinkHtml = 'Like what you see? Visit the ' +\n",
              "            '<a target=\"_blank\" href=https://colab.research.google.com/notebooks/data_table.ipynb>data table notebook</a>'\n",
              "            + ' to learn more about interactive tables.';\n",
              "          element.innerHTML = '';\n",
              "          dataTable['output_type'] = 'display_data';\n",
              "          await google.colab.output.renderOutput(dataTable, element);\n",
              "          const docLink = document.createElement('div');\n",
              "          docLink.innerHTML = docLinkHtml;\n",
              "          element.appendChild(docLink);\n",
              "        }\n",
              "      </script>\n",
              "    </div>\n",
              "  </div>\n",
              "  "
            ],
            "text/plain": [
              "  Hemisphere  Year   Jan   Feb   Mar   Apr  ...   J-D   D-N   DJF   MAM   JJA   SON\n",
              "0     Global  1880 -0.17 -0.23 -0.08 -0.15  ... -0.16 -0.08 -0.16 -0.10 -0.15 -0.18\n",
              "1     Global  1881 -0.18 -0.13  0.04  0.06  ... -0.07 -0.08 -0.16  0.06 -0.06 -0.17\n",
              "2     Global  1882  0.18  0.15  0.06 -0.15  ... -0.10 -0.07  0.09 -0.08 -0.14 -0.17\n",
              "3     Global  1883 -0.28 -0.36 -0.11 -0.17  ... -0.16 -0.18 -0.33 -0.15 -0.08 -0.17\n",
              "4     Global  1884 -0.12 -0.07 -0.36 -0.39  ... -0.28 -0.26 -0.10 -0.36 -0.31 -0.27\n",
              "\n",
              "[5 rows x 20 columns]"
            ]
          },
          "metadata": {},
          "execution_count": 11
        }
      ]
    },
    {
      "cell_type": "code",
      "source": [
        "#listo! hemos reemplazado los valores faltantes\n",
        "#comprobamos \n",
        "\n",
        "df1.info()"
      ],
      "metadata": {
        "colab": {
          "base_uri": "https://localhost:8080/"
        },
        "id": "Dzgm97p6a0h_",
        "outputId": "9666220b-89d3-4bdf-e089-799f7da46a46"
      },
      "execution_count": 12,
      "outputs": [
        {
          "output_type": "stream",
          "name": "stdout",
          "text": [
            "<class 'pandas.core.frame.DataFrame'>\n",
            "RangeIndex: 423 entries, 0 to 422\n",
            "Data columns (total 20 columns):\n",
            " #   Column      Non-Null Count  Dtype  \n",
            "---  ------      --------------  -----  \n",
            " 0   Hemisphere  423 non-null    object \n",
            " 1   Year        423 non-null    int64  \n",
            " 2   Jan         423 non-null    float64\n",
            " 3   Feb         423 non-null    float64\n",
            " 4   Mar         423 non-null    float64\n",
            " 5   Apr         423 non-null    float64\n",
            " 6   May         423 non-null    float64\n",
            " 7   Jun         423 non-null    float64\n",
            " 8   Jul         423 non-null    float64\n",
            " 9   Aug         423 non-null    float64\n",
            " 10  Sep         423 non-null    float64\n",
            " 11  Oct         423 non-null    float64\n",
            " 12  Nov         423 non-null    float64\n",
            " 13  Dec         423 non-null    float64\n",
            " 14  J-D         423 non-null    float64\n",
            " 15  D-N         423 non-null    float64\n",
            " 16  DJF         423 non-null    float64\n",
            " 17  MAM         423 non-null    float64\n",
            " 18  JJA         423 non-null    float64\n",
            " 19  SON         423 non-null    float64\n",
            "dtypes: float64(18), int64(1), object(1)\n",
            "memory usage: 66.2+ KB\n"
          ]
        }
      ]
    },
    {
      "cell_type": "markdown",
      "source": [
        "#Visualización de datos"
      ],
      "metadata": {
        "id": "CzWwnaF6bL7B"
      }
    },
    {
      "cell_type": "markdown",
      "source": [
        "##Gráfico 1"
      ],
      "metadata": {
        "id": "B25JHzbH8gKO"
      }
    },
    {
      "cell_type": "code",
      "source": [
        "#importamos la libreria para trabajar en los gráficos\n",
        "import matplotlib.pyplot as plt"
      ],
      "metadata": {
        "id": "KVAcy3x4bG19"
      },
      "execution_count": 30,
      "outputs": []
    },
    {
      "cell_type": "markdown",
      "source": [
        "Grafico que representará como ha ido variando por año la temperatura **global**"
      ],
      "metadata": {
        "id": "WaAp0I-hboFa"
      }
    },
    {
      "cell_type": "code",
      "source": [
        "filter_global = df1['Hemisphere'] == 'Global'\n",
        "filter_global.tail()"
      ],
      "metadata": {
        "colab": {
          "base_uri": "https://localhost:8080/"
        },
        "id": "_cvxINR2b55M",
        "outputId": "76eff0d2-a5cb-4257-a4be-7cb1f767e076"
      },
      "execution_count": 14,
      "outputs": [
        {
          "output_type": "execute_result",
          "data": {
            "text/plain": [
              "418    False\n",
              "419    False\n",
              "420    False\n",
              "421    False\n",
              "422    False\n",
              "Name: Hemisphere, dtype: bool"
            ]
          },
          "metadata": {},
          "execution_count": 14
        }
      ]
    },
    {
      "cell_type": "code",
      "source": [
        "df1 = df1.loc[filter_global,:]"
      ],
      "metadata": {
        "id": "-NB-QZrQcA91"
      },
      "execution_count": 15,
      "outputs": []
    },
    {
      "cell_type": "code",
      "source": [
        "df1 = df1.loc [:,['Hemisphere','Year','Jan','Feb','Mar','Apr','May','Jun','Jul','Aug','Sep','Oct','Nov','Dec']]\n",
        "df1"
      ],
      "metadata": {
        "colab": {
          "base_uri": "https://localhost:8080/",
          "height": 423
        },
        "id": "YMKLtOeecIV1",
        "outputId": "c4c73f53-86a3-4e95-af0f-c9d9c14d22c5"
      },
      "execution_count": 16,
      "outputs": [
        {
          "output_type": "execute_result",
          "data": {
            "text/html": [
              "\n",
              "  <div id=\"df-7fce77f0-72f9-4506-9e6b-9a7731bb1a35\">\n",
              "    <div class=\"colab-df-container\">\n",
              "      <div>\n",
              "<style scoped>\n",
              "    .dataframe tbody tr th:only-of-type {\n",
              "        vertical-align: middle;\n",
              "    }\n",
              "\n",
              "    .dataframe tbody tr th {\n",
              "        vertical-align: top;\n",
              "    }\n",
              "\n",
              "    .dataframe thead th {\n",
              "        text-align: right;\n",
              "    }\n",
              "</style>\n",
              "<table border=\"1\" class=\"dataframe\">\n",
              "  <thead>\n",
              "    <tr style=\"text-align: right;\">\n",
              "      <th></th>\n",
              "      <th>Hemisphere</th>\n",
              "      <th>Year</th>\n",
              "      <th>Jan</th>\n",
              "      <th>Feb</th>\n",
              "      <th>Mar</th>\n",
              "      <th>Apr</th>\n",
              "      <th>May</th>\n",
              "      <th>Jun</th>\n",
              "      <th>Jul</th>\n",
              "      <th>Aug</th>\n",
              "      <th>Sep</th>\n",
              "      <th>Oct</th>\n",
              "      <th>Nov</th>\n",
              "      <th>Dec</th>\n",
              "    </tr>\n",
              "  </thead>\n",
              "  <tbody>\n",
              "    <tr>\n",
              "      <th>0</th>\n",
              "      <td>Global</td>\n",
              "      <td>1880</td>\n",
              "      <td>-0.17</td>\n",
              "      <td>-0.23</td>\n",
              "      <td>-0.08</td>\n",
              "      <td>-0.15</td>\n",
              "      <td>-0.08</td>\n",
              "      <td>-0.20</td>\n",
              "      <td>-0.17</td>\n",
              "      <td>-0.09</td>\n",
              "      <td>-0.13</td>\n",
              "      <td>-0.22</td>\n",
              "      <td>-0.20</td>\n",
              "      <td>-0.16</td>\n",
              "    </tr>\n",
              "    <tr>\n",
              "      <th>1</th>\n",
              "      <td>Global</td>\n",
              "      <td>1881</td>\n",
              "      <td>-0.18</td>\n",
              "      <td>-0.13</td>\n",
              "      <td>0.04</td>\n",
              "      <td>0.06</td>\n",
              "      <td>0.08</td>\n",
              "      <td>-0.17</td>\n",
              "      <td>0.02</td>\n",
              "      <td>-0.02</td>\n",
              "      <td>-0.14</td>\n",
              "      <td>-0.20</td>\n",
              "      <td>-0.17</td>\n",
              "      <td>-0.05</td>\n",
              "    </tr>\n",
              "    <tr>\n",
              "      <th>2</th>\n",
              "      <td>Global</td>\n",
              "      <td>1882</td>\n",
              "      <td>0.18</td>\n",
              "      <td>0.15</td>\n",
              "      <td>0.06</td>\n",
              "      <td>-0.15</td>\n",
              "      <td>-0.13</td>\n",
              "      <td>-0.21</td>\n",
              "      <td>-0.15</td>\n",
              "      <td>-0.06</td>\n",
              "      <td>-0.13</td>\n",
              "      <td>-0.23</td>\n",
              "      <td>-0.15</td>\n",
              "      <td>-0.34</td>\n",
              "    </tr>\n",
              "    <tr>\n",
              "      <th>3</th>\n",
              "      <td>Global</td>\n",
              "      <td>1883</td>\n",
              "      <td>-0.28</td>\n",
              "      <td>-0.36</td>\n",
              "      <td>-0.11</td>\n",
              "      <td>-0.17</td>\n",
              "      <td>-0.16</td>\n",
              "      <td>-0.07</td>\n",
              "      <td>-0.05</td>\n",
              "      <td>-0.12</td>\n",
              "      <td>-0.20</td>\n",
              "      <td>-0.10</td>\n",
              "      <td>-0.22</td>\n",
              "      <td>-0.10</td>\n",
              "    </tr>\n",
              "    <tr>\n",
              "      <th>4</th>\n",
              "      <td>Global</td>\n",
              "      <td>1884</td>\n",
              "      <td>-0.12</td>\n",
              "      <td>-0.07</td>\n",
              "      <td>-0.36</td>\n",
              "      <td>-0.39</td>\n",
              "      <td>-0.33</td>\n",
              "      <td>-0.34</td>\n",
              "      <td>-0.32</td>\n",
              "      <td>-0.27</td>\n",
              "      <td>-0.26</td>\n",
              "      <td>-0.24</td>\n",
              "      <td>-0.32</td>\n",
              "      <td>-0.30</td>\n",
              "    </tr>\n",
              "    <tr>\n",
              "      <th>...</th>\n",
              "      <td>...</td>\n",
              "      <td>...</td>\n",
              "      <td>...</td>\n",
              "      <td>...</td>\n",
              "      <td>...</td>\n",
              "      <td>...</td>\n",
              "      <td>...</td>\n",
              "      <td>...</td>\n",
              "      <td>...</td>\n",
              "      <td>...</td>\n",
              "      <td>...</td>\n",
              "      <td>...</td>\n",
              "      <td>...</td>\n",
              "      <td>...</td>\n",
              "    </tr>\n",
              "    <tr>\n",
              "      <th>136</th>\n",
              "      <td>Global</td>\n",
              "      <td>2016</td>\n",
              "      <td>1.17</td>\n",
              "      <td>1.37</td>\n",
              "      <td>1.35</td>\n",
              "      <td>1.12</td>\n",
              "      <td>0.96</td>\n",
              "      <td>0.81</td>\n",
              "      <td>0.85</td>\n",
              "      <td>1.02</td>\n",
              "      <td>0.91</td>\n",
              "      <td>0.89</td>\n",
              "      <td>0.91</td>\n",
              "      <td>0.86</td>\n",
              "    </tr>\n",
              "    <tr>\n",
              "      <th>137</th>\n",
              "      <td>Global</td>\n",
              "      <td>2017</td>\n",
              "      <td>1.03</td>\n",
              "      <td>1.15</td>\n",
              "      <td>1.17</td>\n",
              "      <td>0.95</td>\n",
              "      <td>0.91</td>\n",
              "      <td>0.72</td>\n",
              "      <td>0.82</td>\n",
              "      <td>0.87</td>\n",
              "      <td>0.77</td>\n",
              "      <td>0.90</td>\n",
              "      <td>0.88</td>\n",
              "      <td>0.94</td>\n",
              "    </tr>\n",
              "    <tr>\n",
              "      <th>138</th>\n",
              "      <td>Global</td>\n",
              "      <td>2018</td>\n",
              "      <td>0.82</td>\n",
              "      <td>0.85</td>\n",
              "      <td>0.90</td>\n",
              "      <td>0.89</td>\n",
              "      <td>0.83</td>\n",
              "      <td>0.78</td>\n",
              "      <td>0.83</td>\n",
              "      <td>0.76</td>\n",
              "      <td>0.81</td>\n",
              "      <td>1.02</td>\n",
              "      <td>0.83</td>\n",
              "      <td>0.92</td>\n",
              "    </tr>\n",
              "    <tr>\n",
              "      <th>139</th>\n",
              "      <td>Global</td>\n",
              "      <td>2019</td>\n",
              "      <td>0.94</td>\n",
              "      <td>0.96</td>\n",
              "      <td>1.18</td>\n",
              "      <td>1.02</td>\n",
              "      <td>0.86</td>\n",
              "      <td>0.93</td>\n",
              "      <td>0.95</td>\n",
              "      <td>0.94</td>\n",
              "      <td>0.93</td>\n",
              "      <td>1.02</td>\n",
              "      <td>1.01</td>\n",
              "      <td>1.09</td>\n",
              "    </tr>\n",
              "    <tr>\n",
              "      <th>140</th>\n",
              "      <td>Global</td>\n",
              "      <td>2020</td>\n",
              "      <td>1.17</td>\n",
              "      <td>1.26</td>\n",
              "      <td>1.18</td>\n",
              "      <td>1.14</td>\n",
              "      <td>1.02</td>\n",
              "      <td>0.92</td>\n",
              "      <td>0.90</td>\n",
              "      <td>0.87</td>\n",
              "      <td>0.99</td>\n",
              "      <td>0.89</td>\n",
              "      <td>1.11</td>\n",
              "      <td>0.81</td>\n",
              "    </tr>\n",
              "  </tbody>\n",
              "</table>\n",
              "<p>141 rows × 14 columns</p>\n",
              "</div>\n",
              "      <button class=\"colab-df-convert\" onclick=\"convertToInteractive('df-7fce77f0-72f9-4506-9e6b-9a7731bb1a35')\"\n",
              "              title=\"Convert this dataframe to an interactive table.\"\n",
              "              style=\"display:none;\">\n",
              "        \n",
              "  <svg xmlns=\"http://www.w3.org/2000/svg\" height=\"24px\"viewBox=\"0 0 24 24\"\n",
              "       width=\"24px\">\n",
              "    <path d=\"M0 0h24v24H0V0z\" fill=\"none\"/>\n",
              "    <path d=\"M18.56 5.44l.94 2.06.94-2.06 2.06-.94-2.06-.94-.94-2.06-.94 2.06-2.06.94zm-11 1L8.5 8.5l.94-2.06 2.06-.94-2.06-.94L8.5 2.5l-.94 2.06-2.06.94zm10 10l.94 2.06.94-2.06 2.06-.94-2.06-.94-.94-2.06-.94 2.06-2.06.94z\"/><path d=\"M17.41 7.96l-1.37-1.37c-.4-.4-.92-.59-1.43-.59-.52 0-1.04.2-1.43.59L10.3 9.45l-7.72 7.72c-.78.78-.78 2.05 0 2.83L4 21.41c.39.39.9.59 1.41.59.51 0 1.02-.2 1.41-.59l7.78-7.78 2.81-2.81c.8-.78.8-2.07 0-2.86zM5.41 20L4 18.59l7.72-7.72 1.47 1.35L5.41 20z\"/>\n",
              "  </svg>\n",
              "      </button>\n",
              "      \n",
              "  <style>\n",
              "    .colab-df-container {\n",
              "      display:flex;\n",
              "      flex-wrap:wrap;\n",
              "      gap: 12px;\n",
              "    }\n",
              "\n",
              "    .colab-df-convert {\n",
              "      background-color: #E8F0FE;\n",
              "      border: none;\n",
              "      border-radius: 50%;\n",
              "      cursor: pointer;\n",
              "      display: none;\n",
              "      fill: #1967D2;\n",
              "      height: 32px;\n",
              "      padding: 0 0 0 0;\n",
              "      width: 32px;\n",
              "    }\n",
              "\n",
              "    .colab-df-convert:hover {\n",
              "      background-color: #E2EBFA;\n",
              "      box-shadow: 0px 1px 2px rgba(60, 64, 67, 0.3), 0px 1px 3px 1px rgba(60, 64, 67, 0.15);\n",
              "      fill: #174EA6;\n",
              "    }\n",
              "\n",
              "    [theme=dark] .colab-df-convert {\n",
              "      background-color: #3B4455;\n",
              "      fill: #D2E3FC;\n",
              "    }\n",
              "\n",
              "    [theme=dark] .colab-df-convert:hover {\n",
              "      background-color: #434B5C;\n",
              "      box-shadow: 0px 1px 3px 1px rgba(0, 0, 0, 0.15);\n",
              "      filter: drop-shadow(0px 1px 2px rgba(0, 0, 0, 0.3));\n",
              "      fill: #FFFFFF;\n",
              "    }\n",
              "  </style>\n",
              "\n",
              "      <script>\n",
              "        const buttonEl =\n",
              "          document.querySelector('#df-7fce77f0-72f9-4506-9e6b-9a7731bb1a35 button.colab-df-convert');\n",
              "        buttonEl.style.display =\n",
              "          google.colab.kernel.accessAllowed ? 'block' : 'none';\n",
              "\n",
              "        async function convertToInteractive(key) {\n",
              "          const element = document.querySelector('#df-7fce77f0-72f9-4506-9e6b-9a7731bb1a35');\n",
              "          const dataTable =\n",
              "            await google.colab.kernel.invokeFunction('convertToInteractive',\n",
              "                                                     [key], {});\n",
              "          if (!dataTable) return;\n",
              "\n",
              "          const docLinkHtml = 'Like what you see? Visit the ' +\n",
              "            '<a target=\"_blank\" href=https://colab.research.google.com/notebooks/data_table.ipynb>data table notebook</a>'\n",
              "            + ' to learn more about interactive tables.';\n",
              "          element.innerHTML = '';\n",
              "          dataTable['output_type'] = 'display_data';\n",
              "          await google.colab.output.renderOutput(dataTable, element);\n",
              "          const docLink = document.createElement('div');\n",
              "          docLink.innerHTML = docLinkHtml;\n",
              "          element.appendChild(docLink);\n",
              "        }\n",
              "      </script>\n",
              "    </div>\n",
              "  </div>\n",
              "  "
            ],
            "text/plain": [
              "    Hemisphere  Year   Jan   Feb   Mar  ...   Aug   Sep   Oct   Nov   Dec\n",
              "0       Global  1880 -0.17 -0.23 -0.08  ... -0.09 -0.13 -0.22 -0.20 -0.16\n",
              "1       Global  1881 -0.18 -0.13  0.04  ... -0.02 -0.14 -0.20 -0.17 -0.05\n",
              "2       Global  1882  0.18  0.15  0.06  ... -0.06 -0.13 -0.23 -0.15 -0.34\n",
              "3       Global  1883 -0.28 -0.36 -0.11  ... -0.12 -0.20 -0.10 -0.22 -0.10\n",
              "4       Global  1884 -0.12 -0.07 -0.36  ... -0.27 -0.26 -0.24 -0.32 -0.30\n",
              "..         ...   ...   ...   ...   ...  ...   ...   ...   ...   ...   ...\n",
              "136     Global  2016  1.17  1.37  1.35  ...  1.02  0.91  0.89  0.91  0.86\n",
              "137     Global  2017  1.03  1.15  1.17  ...  0.87  0.77  0.90  0.88  0.94\n",
              "138     Global  2018  0.82  0.85  0.90  ...  0.76  0.81  1.02  0.83  0.92\n",
              "139     Global  2019  0.94  0.96  1.18  ...  0.94  0.93  1.02  1.01  1.09\n",
              "140     Global  2020  1.17  1.26  1.18  ...  0.87  0.99  0.89  1.11  0.81\n",
              "\n",
              "[141 rows x 14 columns]"
            ]
          },
          "metadata": {},
          "execution_count": 16
        }
      ]
    },
    {
      "cell_type": "code",
      "source": [
        "df2 = df1\n",
        "df2 = df1.loc [:,['Jan','Feb','Mar','Apr','May','Jun','Jul','Aug','Sep','Oct','Nov','Dec']]\n",
        "#guardamos en un df los datos que vamos a convertir en columnas"
      ],
      "metadata": {
        "id": "ioaFCbJTdlAZ"
      },
      "execution_count": 17,
      "outputs": []
    },
    {
      "cell_type": "code",
      "source": [
        "#usamos un alrgoritmo para crear los valores que serán representados en el eje y\n",
        "eje_y = []\n",
        "#guardamos en una variable el numero de filas \n",
        "num_filas = df2.shape[0]\n",
        "for x in range (0,num_filas):\n",
        "  prom = df2.iloc[x].mean()\n",
        "  eje_y.append(prom)\n",
        "len(eje_y)\n",
        "#lista para el eje y = eje_y"
      ],
      "metadata": {
        "colab": {
          "base_uri": "https://localhost:8080/"
        },
        "id": "a7NINaBwsMFN",
        "outputId": "ca1b8ae3-4c50-4e50-b12d-4c72c5f71cd1"
      },
      "execution_count": 18,
      "outputs": [
        {
          "output_type": "execute_result",
          "data": {
            "text/plain": [
              "141"
            ]
          },
          "metadata": {},
          "execution_count": 18
        }
      ]
    },
    {
      "cell_type": "code",
      "source": [
        "#convertimos a lista los años \n",
        "\n",
        "eje_x = list(df1['Year'])\n",
        "eje_x\n",
        "len(eje_x)"
      ],
      "metadata": {
        "colab": {
          "base_uri": "https://localhost:8080/"
        },
        "id": "ejdA-GXdfa10",
        "outputId": "85db2da6-44ec-4f73-82e1-29b582e06825"
      },
      "execution_count": 19,
      "outputs": [
        {
          "output_type": "execute_result",
          "data": {
            "text/plain": [
              "141"
            ]
          },
          "metadata": {},
          "execution_count": 19
        }
      ]
    },
    {
      "cell_type": "code",
      "source": [
        "#hacemos la gráfica\n",
        "plt.figure(figsize=(20,15));\n",
        "plt.plot(eje_x, eje_y);\n",
        "#estableceremos ajustes\n",
        "plt.title('Incremento temperatura global promedio 1880-2020', fontsize = 22);\n",
        "plt.xlim(left=1880,right=2020)\n",
        "plt.ylim(bottom=-0.6,top=1.2)\n",
        "plt.xlabel('Años', fontsize = 20)\n",
        "plt.ylabel('Variación de temperatura', fontsize = 20);\n",
        "\n",
        "plt.rc('font', size=20)"
      ],
      "metadata": {
        "colab": {
          "base_uri": "https://localhost:8080/",
          "height": 916
        },
        "id": "C6CNTh_qtO5-",
        "outputId": "473fcc64-2857-42f7-d59b-044a81193e89"
      },
      "execution_count": 42,
      "outputs": [
        {
          "output_type": "display_data",
          "data": {
            "image/png": "[encoded data removed]",
            "text/plain": [
              "<Figure size 1440x1080 with 1 Axes>"
            ]
          },
          "metadata": {
            "needs_background": "light"
          }
        }
      ]
    },
    {
      "cell_type": "markdown",
      "source": [
        "Este gráfico nos indica como ha ido creciendo la temperatura del planeta a lo largo del tiempo"
      ],
      "metadata": {
        "id": "xO1Zb7H_85wN"
      }
    },
    {
      "cell_type": "markdown",
      "source": [
        "##Gráfico 2"
      ],
      "metadata": {
        "id": "wFQJCTaZ8lzb"
      }
    },
    {
      "cell_type": "code",
      "source": [
        "lista_1980_ejey = list(df2.iloc[0])\n",
        "lista_1980_ejey"
      ],
      "metadata": {
        "colab": {
          "base_uri": "https://localhost:8080/"
        },
        "id": "90-Mw8EfwoPO",
        "outputId": "7cffbc2d-5d6f-4a5b-ac90-ba96e6393a28"
      },
      "execution_count": 21,
      "outputs": [
        {
          "output_type": "execute_result",
          "data": {
            "text/plain": [
              "[-0.17,\n",
              " -0.23,\n",
              " -0.08,\n",
              " -0.15,\n",
              " -0.08,\n",
              " -0.2,\n",
              " -0.17,\n",
              " -0.09,\n",
              " -0.13,\n",
              " -0.22,\n",
              " -0.2,\n",
              " -0.16]"
            ]
          },
          "metadata": {},
          "execution_count": 21
        }
      ]
    },
    {
      "cell_type": "code",
      "source": [
        "meses = ['Jan','Feb','Mar','Apr','May','Jun','Jul','Aug','Sep','Oct','Nov','Dec']\n",
        "meses"
      ],
      "metadata": {
        "colab": {
          "base_uri": "https://localhost:8080/"
        },
        "id": "2Zko0JAOvb70",
        "outputId": "6d83b55d-f69a-4c17-a58e-e9b1d52ce8e0"
      },
      "execution_count": 22,
      "outputs": [
        {
          "output_type": "execute_result",
          "data": {
            "text/plain": [
              "['Jan',\n",
              " 'Feb',\n",
              " 'Mar',\n",
              " 'Apr',\n",
              " 'May',\n",
              " 'Jun',\n",
              " 'Jul',\n",
              " 'Aug',\n",
              " 'Sep',\n",
              " 'Oct',\n",
              " 'Nov',\n",
              " 'Dec']"
            ]
          },
          "metadata": {},
          "execution_count": 22
        }
      ]
    },
    {
      "cell_type": "code",
      "source": [
        "#grafico de variacion de temperatura de 1980\n",
        "plt.plot(meses, lista_1980_ejey)"
      ],
      "metadata": {
        "colab": {
          "base_uri": "https://localhost:8080/",
          "height": 283
        },
        "id": "R424qkvKx0ma",
        "outputId": "4dea9a68-2237-4877-da35-79b3b727eafa"
      },
      "execution_count": 23,
      "outputs": [
        {
          "output_type": "execute_result",
          "data": {
            "text/plain": [
              "[<matplotlib.lines.Line2D at 0x7fcf55681510>]"
            ]
          },
          "metadata": {},
          "execution_count": 23
        },
        {
          "output_type": "display_data",
          "data": {
            "image/png": "[encoded data removed]",
            "text/plain": [
              "<Figure size 432x288 with 1 Axes>"
            ]
          },
          "metadata": {
            "needs_background": "light"
          }
        }
      ]
    },
    {
      "cell_type": "code",
      "source": [
        "lista_2020_ejex = list(df2.iloc[-1])\n",
        "lista_2020_ejex"
      ],
      "metadata": {
        "colab": {
          "base_uri": "https://localhost:8080/"
        },
        "id": "1rb8FyuTx7mP",
        "outputId": "1d5619f9-867c-4ac5-e257-bef21c0e7713"
      },
      "execution_count": 24,
      "outputs": [
        {
          "output_type": "execute_result",
          "data": {
            "text/plain": [
              "[1.17, 1.26, 1.18, 1.14, 1.02, 0.92, 0.9, 0.87, 0.99, 0.89, 1.11, 0.81]"
            ]
          },
          "metadata": {},
          "execution_count": 24
        }
      ]
    },
    {
      "cell_type": "code",
      "source": [
        "plt.plot(meses, lista_2020_ejex)"
      ],
      "metadata": {
        "colab": {
          "base_uri": "https://localhost:8080/",
          "height": 283
        },
        "id": "F2Mce-0gydzp",
        "outputId": "b3bc4277-a583-43ea-d4ba-28ab84d76568"
      },
      "execution_count": 25,
      "outputs": [
        {
          "output_type": "execute_result",
          "data": {
            "text/plain": [
              "[<matplotlib.lines.Line2D at 0x7fcf55605d90>]"
            ]
          },
          "metadata": {},
          "execution_count": 25
        },
        {
          "output_type": "display_data",
          "data": {
            "image/png": "[encoded data removed]",
            "text/plain": [
              "<Figure size 432x288 with 1 Axes>"
            ]
          },
          "metadata": {
            "needs_background": "light"
          }
        }
      ]
    },
    {
      "cell_type": "code",
      "source": [
        "plt.figure(figsize=(18,8));\n",
        "# Subplot 1 \n",
        "plt.subplot(1, 2, 1);\n",
        "plt.stem(meses, lista_1980_ejey);\n",
        "\n",
        "#estableceremos ajustes\n",
        "plt.title('Promedio temperaturas por mes, año 1880', fontsize = 22);\n",
        "plt.xlabel('Meses', fontsize = 20)\n",
        "plt.ylabel('Temperatura promedio', fontsize = 20);\n",
        "plt.xticks(rotation=45)\n",
        "\n",
        "\n",
        "# Subplot 2\n",
        "plt.subplot(1, 2, 2);\n",
        "plt.stem(meses, lista_2020_ejex);\n",
        "\n",
        "#estableceremos ajustes\n",
        "\n",
        "plt.title('Promedio temperaturas por mes, año 2020', fontsize = 22);\n",
        "plt.xlabel('Meses', fontsize = 20)\n",
        "plt.ylabel('Temperatura promedio', fontsize = 20);\n",
        "\n",
        "plt.rc('font', size=20)\n",
        "plt.xticks(rotation=45)"
      ],
      "metadata": {
        "colab": {
          "base_uri": "https://localhost:8080/",
          "height": 693
        },
        "id": "FrUyh784yumb",
        "outputId": "ba35c1db-a749-4ebc-c7a9-961962612eb7"
      },
      "execution_count": 45,
      "outputs": [
        {
          "output_type": "stream",
          "name": "stderr",
          "text": [
            "/usr/local/lib/python3.7/dist-packages/ipykernel_launcher.py:4: UserWarning: In Matplotlib 3.3 individual lines on a stem plot will be added as a LineCollection instead of individual lines. This significantly improves the performance of a stem plot. To remove this warning and switch to the new behaviour, set the \"use_line_collection\" keyword argument to True.\n",
            "  after removing the cwd from sys.path.\n",
            "/usr/local/lib/python3.7/dist-packages/ipykernel_launcher.py:15: UserWarning: In Matplotlib 3.3 individual lines on a stem plot will be added as a LineCollection instead of individual lines. This significantly improves the performance of a stem plot. To remove this warning and switch to the new behaviour, set the \"use_line_collection\" keyword argument to True.\n",
            "  from ipykernel import kernelapp as app\n"
          ]
        },
        {
          "output_type": "execute_result",
          "data": {
            "text/plain": [
              "([0, 1, 2, 3, 4, 5, 6, 7, 8, 9, 10, 11],\n",
              " <a list of 12 Text major ticklabel objects>)"
            ]
          },
          "metadata": {},
          "execution_count": 45
        },
        {
          "output_type": "display_data",
          "data": {
            "image/png": "[encoded data removed]",
            "text/plain": [
              "<Figure size 1296x576 with 2 Axes>"
            ]
          },
          "metadata": {
            "needs_background": "light"
          }
        }
      ]
    },
    {
      "cell_type": "markdown",
      "source": [
        "Es un gráfico donde se muestran las temperaturas comparadas entre 1880 y 2020, ubicada en la izquierda la temperatura promedio mostrada en los meses de 1880 y en la derecha las temperaturas del 2020 \n",
        "\n",
        "Conclusión:\n",
        " \n",
        "\n",
        "*   En los primeros años que se tomaba la temperatura global, se puede observar que las anomalías se mantenían por debajo de 0\n",
        "*   En la actualidad se sobrepasa el límite de 0, infiriendo una gran diferencia de temperatura\n",
        "\n"
      ],
      "metadata": {
        "id": "YnqcAmLk2nRO"
      }
    }
  ]
}